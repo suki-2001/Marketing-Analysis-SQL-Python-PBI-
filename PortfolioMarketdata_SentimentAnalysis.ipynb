{
 "cells": [
  {
   "cell_type": "code",
   "execution_count": 1,
   "id": "2aa38717-7940-46d1-af28-44528e4daeb5",
   "metadata": {},
   "outputs": [
    {
     "name": "stdout",
     "output_type": "stream",
     "text": [
      "Hello World\n"
     ]
    }
   ],
   "source": [
    "print(\"Hello World\")"
   ]
  },
  {
   "cell_type": "code",
   "execution_count": 13,
   "id": "1a453806-ff0d-47cf-bdfc-010a38c74e77",
   "metadata": {},
   "outputs": [
    {
     "name": "stdout",
     "output_type": "stream",
     "text": [
      "Requirement already satisfied: pandas in d:\\anaconda\\lib\\site-packages (2.2.2)Note: you may need to restart the kernel to use updated packages.\n",
      "\n",
      "Requirement already satisfied: nltk in d:\\anaconda\\lib\\site-packages (3.9.1)\n",
      "Requirement already satisfied: pyodbc in d:\\anaconda\\lib\\site-packages (5.1.0)\n",
      "Requirement already satisfied: sqlalchemy in d:\\anaconda\\lib\\site-packages (2.0.34)\n",
      "Requirement already satisfied: numpy>=1.26.0 in d:\\anaconda\\lib\\site-packages (from pandas) (1.26.4)\n",
      "Requirement already satisfied: python-dateutil>=2.8.2 in d:\\anaconda\\lib\\site-packages (from pandas) (2.9.0.post0)\n",
      "Requirement already satisfied: pytz>=2020.1 in d:\\anaconda\\lib\\site-packages (from pandas) (2024.1)\n",
      "Requirement already satisfied: tzdata>=2022.7 in d:\\anaconda\\lib\\site-packages (from pandas) (2023.3)\n",
      "Requirement already satisfied: click in d:\\anaconda\\lib\\site-packages (from nltk) (8.1.7)\n",
      "Requirement already satisfied: joblib in d:\\anaconda\\lib\\site-packages (from nltk) (1.4.2)\n",
      "Requirement already satisfied: regex>=2021.8.3 in d:\\anaconda\\lib\\site-packages (from nltk) (2024.9.11)\n",
      "Requirement already satisfied: tqdm in d:\\anaconda\\lib\\site-packages (from nltk) (4.66.5)\n",
      "Requirement already satisfied: typing-extensions>=4.6.0 in d:\\anaconda\\lib\\site-packages (from sqlalchemy) (4.11.0)\n",
      "Requirement already satisfied: greenlet!=0.4.17 in d:\\anaconda\\lib\\site-packages (from sqlalchemy) (3.0.1)\n",
      "Requirement already satisfied: six>=1.5 in d:\\anaconda\\lib\\site-packages (from python-dateutil>=2.8.2->pandas) (1.16.0)\n",
      "Requirement already satisfied: colorama in d:\\anaconda\\lib\\site-packages (from click->nltk) (0.4.6)\n"
     ]
    }
   ],
   "source": [
    "pip install pandas nltk pyodbc sqlalchemy SQLAlchemy"
   ]
  },
  {
   "cell_type": "code",
   "execution_count": 1,
   "id": "2d32c3f6-7d7f-426f-a451-11b761068cd5",
   "metadata": {},
   "outputs": [],
   "source": [
    "import pandas as pd\n",
    "import nltk\n",
    "import pyodbc\n",
    "from nltk.sentiment.vader import SentimentIntensityAnalyzer"
   ]
  },
  {
   "cell_type": "code",
   "execution_count": 3,
   "id": "58592a6f-2a3a-4fc3-8d7a-c5bebf904649",
   "metadata": {},
   "outputs": [
    {
     "name": "stderr",
     "output_type": "stream",
     "text": [
      "[nltk_data] Downloading package vader_lexicon to\n",
      "[nltk_data]     C:\\Users\\user\\AppData\\Roaming\\nltk_data...\n"
     ]
    },
    {
     "data": {
      "text/plain": [
       "True"
      ]
     },
     "execution_count": 3,
     "metadata": {},
     "output_type": "execute_result"
    }
   ],
   "source": [
    "# Download the VADER lexicon for sentiment analysis if not already present\n",
    "nltk.download('vader_lexicon')"
   ]
  },
  {
   "cell_type": "code",
   "execution_count": 11,
   "id": "1b8a287a-12a6-43e3-b8fb-5867fe8987c5",
   "metadata": {},
   "outputs": [],
   "source": [
    "# define a function to fetch data from the SQL database using SQL query\n",
    "def fetch_data_from_sql():\n",
    "    # Define th connection string with parameters for the database connection\n",
    "    conn_str = (\n",
    "        \"DRIVER={SQL Server};\" # specify the driver for sql server\n",
    "        \"Server=HP\\\\SQLEXPRESS;\" # specify your SQL Server Instance\n",
    "        \"Database=PortfolioProject_MarketingAnalytics;\" # specify the database name\n",
    "        \"Trusted_Connection=yes\" # use windows authentication for the connection\n",
    "    )\n",
    "    # Establish the connection to the database\n",
    "    conn = pyodbc.connect(conn_str)\n",
    "\n",
    "    # Define the sql query to fetch customer reviews data\n",
    "    query = \"SELECT ReviewID, CustomerID, ProductID, ReviewDate, Rating, ReviewText FROM dbo.customer_reviews\"\n",
    "\n",
    "    # execute the query and fetch the data into a DataFrame\n",
    "    df = pd.read_sql(query, conn)\n",
    "\n",
    "    # close the connection to free up connetion resources\n",
    "    conn.close()\n",
    "\n",
    "    # return the fetched data as a DataFrame\n",
    "    return df"
   ]
  },
  {
   "cell_type": "code",
   "execution_count": 15,
   "id": "4faecd2f-4cf2-4ee4-bf1e-0a21f0f8a4b3",
   "metadata": {},
   "outputs": [
    {
     "name": "stderr",
     "output_type": "stream",
     "text": [
      "C:\\Users\\user\\AppData\\Local\\Temp\\ipykernel_4768\\2056898511.py:17: UserWarning: pandas only supports SQLAlchemy connectable (engine/connection) or database string URI or sqlite3 DBAPI2 connection. Other DBAPI2 objects are not tested. Please consider using SQLAlchemy.\n",
      "  df = pd.read_sql(query, conn)\n"
     ]
    }
   ],
   "source": [
    "# fetch the customer reviews data from the database\n",
    "customer_review_df = fetch_data_from_sql()"
   ]
  },
  {
   "cell_type": "code",
   "execution_count": 17,
   "id": "6caf9242-5a11-4169-ac3c-dd59983a6efd",
   "metadata": {},
   "outputs": [],
   "source": [
    "# initialize the VADER sentiment intensity analuzer for analysing the sentiment of the text data\n",
    "sia = SentimentIntensityAnalyzer()\n",
    "\n",
    "# Define a function to calculate the sentiment score using VADER\n",
    "def calculate_sentiment(review):\n",
    "    # get the sentiment score for the review test\n",
    "    sentiment = sia.polarity_scores(review)\n",
    "    # return the compound score, which is a normalized score betwenn -1(most negative) and 1(ost positive)\n",
    "    return sentiment['compound']"
   ]
  },
  {
   "cell_type": "code",
   "execution_count": 27,
   "id": "cdb2888d-dd3a-4107-bba4-775cb57f699d",
   "metadata": {},
   "outputs": [],
   "source": [
    "# define a function to categorize sentiments using both sentiment score and the review score\n",
    "def categorize_sentiment(score, rating):\n",
    "    if score > 0.05:\n",
    "        if rating >= 4:\n",
    "            return 'Positive'  # high rating and positive sentiment\n",
    "        elif rating == 3:\n",
    "            return 'Mixed Positive' # netural rating and positive sentiment\n",
    "        else:\n",
    "            return 'Mixed Negative' # low rating and positive sentiment\n",
    "    elif score < -0.05:\n",
    "        if rating <= 2:\n",
    "            return 'Negative' # Low rating and negative sentiment\n",
    "        elif rating == 3:\n",
    "            return 'Mixed Negative' #netural rating and negative sentiment\n",
    "    else:\n",
    "        if rating >=4:\n",
    "            return 'Positive'\n",
    "        elif rating <=2:\n",
    "            return 'Negative'\n",
    "        else:\n",
    "            return 'Netural'"
   ]
  },
  {
   "cell_type": "code",
   "execution_count": 28,
   "id": "17389b48-30d8-4ffa-949e-d313a5faf77c",
   "metadata": {},
   "outputs": [],
   "source": [
    "# define a function to bucket sentiment scores into text ranges\n",
    "def sentiment_bucket(score):\n",
    "    if score >= 0.05:\n",
    "        return \"0.5 to 1.0\" # strongly positive sentment\n",
    "    elif 0.0 <= score < 0.5:\n",
    "        return \"0.0 to 0.5\"  # Mildly positive sentiment\n",
    "    elif -0.5 <= score < 0.0:\n",
    "        return \"-0.49 to 0.0\" # mildly negative sentiment\n",
    "    else:\n",
    "        return \"-1.0 to -0.5\" # strongly negative sentiment"
   ]
  },
  {
   "cell_type": "code",
   "execution_count": 29,
   "id": "35d4a222-0425-42a0-8f26-4ced963bd2bc",
   "metadata": {},
   "outputs": [],
   "source": [
    "# apply sentiment analysis to calculate sentiment scores to each rows\n",
    "customer_review_df['SentimentScore'] = customer_review_df['ReviewText'].apply(calculate_sentiment)\n",
    "\n",
    "# apply sentiment categorizatio to both text and rating\n",
    "customer_review_df['SentimentCategory'] = customer_review_df.apply(\n",
    "    lambda row: categorize_sentiment(row['SentimentScore'], row['Rating']), axis=1)\n",
    "\n",
    "# applying sentiment bucketing to categorze acores into defined ranges\n",
    "customer_review_df['SentimentBucket'] = customer_review_df['SentimentScore'].apply(sentiment_bucket)\n"
   ]
  },
  {
   "cell_type": "code",
   "execution_count": 31,
   "id": "dbea2643-7419-4043-8d6c-8e312bf4a883",
   "metadata": {},
   "outputs": [
    {
     "data": {
      "text/html": [
       "<div>\n",
       "<style scoped>\n",
       "    .dataframe tbody tr th:only-of-type {\n",
       "        vertical-align: middle;\n",
       "    }\n",
       "\n",
       "    .dataframe tbody tr th {\n",
       "        vertical-align: top;\n",
       "    }\n",
       "\n",
       "    .dataframe thead th {\n",
       "        text-align: right;\n",
       "    }\n",
       "</style>\n",
       "<table border=\"1\" class=\"dataframe\">\n",
       "  <thead>\n",
       "    <tr style=\"text-align: right;\">\n",
       "      <th></th>\n",
       "      <th>ReviewID</th>\n",
       "      <th>CustomerID</th>\n",
       "      <th>ProductID</th>\n",
       "      <th>ReviewDate</th>\n",
       "      <th>Rating</th>\n",
       "      <th>ReviewText</th>\n",
       "      <th>SentimentScore</th>\n",
       "      <th>SentimentCategory</th>\n",
       "      <th>SentimentBucket</th>\n",
       "    </tr>\n",
       "  </thead>\n",
       "  <tbody>\n",
       "    <tr>\n",
       "      <th>0</th>\n",
       "      <td>1</td>\n",
       "      <td>77</td>\n",
       "      <td>18</td>\n",
       "      <td>2023-12-23</td>\n",
       "      <td>3</td>\n",
       "      <td>Average  experience,  nothing  special.</td>\n",
       "      <td>-0.3089</td>\n",
       "      <td>Mixed Negative</td>\n",
       "      <td>-0.49 to 0.0</td>\n",
       "    </tr>\n",
       "    <tr>\n",
       "      <th>1</th>\n",
       "      <td>2</td>\n",
       "      <td>80</td>\n",
       "      <td>19</td>\n",
       "      <td>2024-12-25</td>\n",
       "      <td>5</td>\n",
       "      <td>The  quality  is    top-notch.</td>\n",
       "      <td>0.0000</td>\n",
       "      <td>Positive</td>\n",
       "      <td>0.0 to 0.5</td>\n",
       "    </tr>\n",
       "    <tr>\n",
       "      <th>2</th>\n",
       "      <td>3</td>\n",
       "      <td>50</td>\n",
       "      <td>13</td>\n",
       "      <td>2025-01-26</td>\n",
       "      <td>4</td>\n",
       "      <td>Five  stars  for  the  quick  delivery.</td>\n",
       "      <td>0.0000</td>\n",
       "      <td>Positive</td>\n",
       "      <td>0.0 to 0.5</td>\n",
       "    </tr>\n",
       "    <tr>\n",
       "      <th>3</th>\n",
       "      <td>4</td>\n",
       "      <td>78</td>\n",
       "      <td>15</td>\n",
       "      <td>2025-04-21</td>\n",
       "      <td>3</td>\n",
       "      <td>Good  quality,  but  could  be  cheaper.</td>\n",
       "      <td>0.2382</td>\n",
       "      <td>Mixed Positive</td>\n",
       "      <td>0.5 to 1.0</td>\n",
       "    </tr>\n",
       "    <tr>\n",
       "      <th>4</th>\n",
       "      <td>5</td>\n",
       "      <td>64</td>\n",
       "      <td>2</td>\n",
       "      <td>2023-07-16</td>\n",
       "      <td>3</td>\n",
       "      <td>Average  experience,  nothing  special.</td>\n",
       "      <td>-0.3089</td>\n",
       "      <td>Mixed Negative</td>\n",
       "      <td>-0.49 to 0.0</td>\n",
       "    </tr>\n",
       "  </tbody>\n",
       "</table>\n",
       "</div>"
      ],
      "text/plain": [
       "   ReviewID  CustomerID  ProductID  ReviewDate  Rating  \\\n",
       "0         1          77         18  2023-12-23       3   \n",
       "1         2          80         19  2024-12-25       5   \n",
       "2         3          50         13  2025-01-26       4   \n",
       "3         4          78         15  2025-04-21       3   \n",
       "4         5          64          2  2023-07-16       3   \n",
       "\n",
       "                                 ReviewText  SentimentScore SentimentCategory  \\\n",
       "0   Average  experience,  nothing  special.         -0.3089    Mixed Negative   \n",
       "1            The  quality  is    top-notch.          0.0000          Positive   \n",
       "2   Five  stars  for  the  quick  delivery.          0.0000          Positive   \n",
       "3  Good  quality,  but  could  be  cheaper.          0.2382    Mixed Positive   \n",
       "4   Average  experience,  nothing  special.         -0.3089    Mixed Negative   \n",
       "\n",
       "  SentimentBucket  \n",
       "0    -0.49 to 0.0  \n",
       "1      0.0 to 0.5  \n",
       "2      0.0 to 0.5  \n",
       "3      0.5 to 1.0  \n",
       "4    -0.49 to 0.0  "
      ]
     },
     "execution_count": 31,
     "metadata": {},
     "output_type": "execute_result"
    }
   ],
   "source": [
    "# disply the first few rows of the dataFrame with sentiment scores, categories and buckets\n",
    "customer_review_df.head()"
   ]
  },
  {
   "cell_type": "code",
   "execution_count": 33,
   "id": "4c9b9faf-546d-469d-8963-b263ba06f458",
   "metadata": {},
   "outputs": [],
   "source": [
    "# save the DataFrame with sentiment score, categories and buckets to a new CSV file\n",
    "customer_review_df.to_csv('fact_customer_reviwes_with_sentiment.csv', index=False)"
   ]
  }
 ],
 "metadata": {
  "kernelspec": {
   "display_name": "Python 3 (ipykernel)",
   "language": "python",
   "name": "python3"
  },
  "language_info": {
   "codemirror_mode": {
    "name": "ipython",
    "version": 3
   },
   "file_extension": ".py",
   "mimetype": "text/x-python",
   "name": "python",
   "nbconvert_exporter": "python",
   "pygments_lexer": "ipython3",
   "version": "3.12.7"
  }
 },
 "nbformat": 4,
 "nbformat_minor": 5
}
